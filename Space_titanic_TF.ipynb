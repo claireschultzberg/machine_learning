{
 "cells": [
  {
   "cell_type": "code",
   "execution_count": 1,
   "metadata": {},
   "outputs": [
    {
     "name": "stdout",
     "output_type": "stream",
     "text": [
      "2.15.0\n"
     ]
    }
   ],
   "source": [
    "import numpy as np\n",
    "import pandas as pd\n",
    "import matplotlib.pyplot as plt\n",
    "import seaborn as sns\n",
    "import math\n",
    "\n",
    "pd.set_option('display.max_columns', None)\n",
    "\n",
    "import tensorflow as tf\n",
    "from tensorflow.keras import layers\n",
    "from tensorflow.keras import Input\n",
    "from tensorflow.keras.losses import SparseCategoricalCrossentropy, CategoricalCrossentropy\n",
    "\n",
    "from sklearn.metrics import confusion_matrix\n",
    "\n",
    "from sklearn.model_selection import train_test_split\n",
    "\n",
    "print(tf.__version__)"
   ]
  },
  {
   "cell_type": "code",
   "execution_count": 2,
   "metadata": {},
   "outputs": [
    {
     "name": "stdout",
     "output_type": "stream",
     "text": [
      "2.15.0\n"
     ]
    }
   ],
   "source": [
    "import numpy as np\n",
    "import pandas as pd\n",
    "import matplotlib.pyplot as plt\n",
    "import seaborn as sns\n",
    "import math\n",
    "\n",
    "pd.set_option('display.max_columns', None)\n",
    "\n",
    "import tensorflow as tf\n",
    "from tensorflow.keras import layers\n",
    "from tensorflow.keras import Input\n",
    "from tensorflow.keras.losses import SparseCategoricalCrossentropy, CategoricalCrossentropy\n",
    "\n",
    "from sklearn.metrics import confusion_matrix\n",
    "\n",
    "from sklearn.model_selection import train_test_split\n",
    "\n",
    "print(tf.__version__)"
   ]
  },
  {
   "cell_type": "code",
   "execution_count": 3,
   "metadata": {},
   "outputs": [
    {
     "name": "stdout",
     "output_type": "stream",
     "text": [
      "2.15.0\n"
     ]
    }
   ],
   "source": [
    "import numpy as np\n",
    "import pandas as pd\n",
    "import matplotlib.pyplot as plt\n",
    "import seaborn as sns\n",
    "import math\n",
    "\n",
    "pd.set_option('display.max_columns', None)\n",
    "\n",
    "import tensorflow as tf\n",
    "from tensorflow.keras import layers\n",
    "from tensorflow.keras import Input\n",
    "from tensorflow.keras.losses import SparseCategoricalCrossentropy, CategoricalCrossentropy\n",
    "\n",
    "from sklearn.metrics import confusion_matrix\n",
    "\n",
    "from sklearn.model_selection import train_test_split\n",
    "\n",
    "print(tf.__version__)"
   ]
  },
  {
   "cell_type": "markdown",
   "metadata": {},
   "source": [
    "# Extract data"
   ]
  },
  {
   "cell_type": "code",
   "execution_count": 4,
   "metadata": {},
   "outputs": [
    {
     "name": "stdout",
     "output_type": "stream",
     "text": [
      "<class 'pandas.core.frame.DataFrame'>\n",
      "RangeIndex: 8693 entries, 0 to 8692\n",
      "Data columns (total 14 columns):\n",
      " #   Column        Non-Null Count  Dtype  \n",
      "---  ------        --------------  -----  \n",
      " 0   PassengerId   8693 non-null   object \n",
      " 1   HomePlanet    8492 non-null   object \n",
      " 2   CryoSleep     8476 non-null   object \n",
      " 3   Cabin         8494 non-null   object \n",
      " 4   Destination   8511 non-null   object \n",
      " 5   Age           8514 non-null   float64\n",
      " 6   VIP           8490 non-null   object \n",
      " 7   RoomService   8512 non-null   float64\n",
      " 8   FoodCourt     8510 non-null   float64\n",
      " 9   ShoppingMall  8485 non-null   float64\n",
      " 10  Spa           8510 non-null   float64\n",
      " 11  VRDeck        8505 non-null   float64\n",
      " 12  Name          8493 non-null   object \n",
      " 13  Transported   8693 non-null   bool   \n",
      "dtypes: bool(1), float64(6), object(7)\n",
      "memory usage: 891.5+ KB\n"
     ]
    }
   ],
   "source": [
    "space_titanic_train = pd.read_csv('data/space_titanic_train.csv')\n",
    "space_titanic_train.info()"
   ]
  },
  {
   "cell_type": "markdown",
   "metadata": {},
   "source": [
    "# Explore the data"
   ]
  },
  {
   "cell_type": "code",
   "execution_count": 5,
   "metadata": {},
   "outputs": [
    {
     "data": {
      "text/html": [
       "<div>\n",
       "<style scoped>\n",
       "    .dataframe tbody tr th:only-of-type {\n",
       "        vertical-align: middle;\n",
       "    }\n",
       "\n",
       "    .dataframe tbody tr th {\n",
       "        vertical-align: top;\n",
       "    }\n",
       "\n",
       "    .dataframe thead th {\n",
       "        text-align: right;\n",
       "    }\n",
       "</style>\n",
       "<table border=\"1\" class=\"dataframe\">\n",
       "  <thead>\n",
       "    <tr style=\"text-align: right;\">\n",
       "      <th></th>\n",
       "      <th>PassengerId</th>\n",
       "      <th>HomePlanet</th>\n",
       "      <th>CryoSleep</th>\n",
       "      <th>Cabin</th>\n",
       "      <th>Destination</th>\n",
       "      <th>Age</th>\n",
       "      <th>VIP</th>\n",
       "      <th>RoomService</th>\n",
       "      <th>FoodCourt</th>\n",
       "      <th>ShoppingMall</th>\n",
       "      <th>Spa</th>\n",
       "      <th>VRDeck</th>\n",
       "      <th>Name</th>\n",
       "      <th>Transported</th>\n",
       "    </tr>\n",
       "  </thead>\n",
       "  <tbody>\n",
       "    <tr>\n",
       "      <th>count</th>\n",
       "      <td>8693</td>\n",
       "      <td>8492</td>\n",
       "      <td>8476</td>\n",
       "      <td>8494</td>\n",
       "      <td>8511</td>\n",
       "      <td>8514.000000</td>\n",
       "      <td>8490</td>\n",
       "      <td>8512.000000</td>\n",
       "      <td>8510.000000</td>\n",
       "      <td>8485.000000</td>\n",
       "      <td>8510.000000</td>\n",
       "      <td>8505.000000</td>\n",
       "      <td>8493</td>\n",
       "      <td>8693</td>\n",
       "    </tr>\n",
       "    <tr>\n",
       "      <th>unique</th>\n",
       "      <td>8693</td>\n",
       "      <td>3</td>\n",
       "      <td>2</td>\n",
       "      <td>6560</td>\n",
       "      <td>3</td>\n",
       "      <td>NaN</td>\n",
       "      <td>2</td>\n",
       "      <td>NaN</td>\n",
       "      <td>NaN</td>\n",
       "      <td>NaN</td>\n",
       "      <td>NaN</td>\n",
       "      <td>NaN</td>\n",
       "      <td>8473</td>\n",
       "      <td>2</td>\n",
       "    </tr>\n",
       "    <tr>\n",
       "      <th>top</th>\n",
       "      <td>0001_01</td>\n",
       "      <td>Earth</td>\n",
       "      <td>False</td>\n",
       "      <td>G/734/S</td>\n",
       "      <td>TRAPPIST-1e</td>\n",
       "      <td>NaN</td>\n",
       "      <td>False</td>\n",
       "      <td>NaN</td>\n",
       "      <td>NaN</td>\n",
       "      <td>NaN</td>\n",
       "      <td>NaN</td>\n",
       "      <td>NaN</td>\n",
       "      <td>Gollux Reedall</td>\n",
       "      <td>True</td>\n",
       "    </tr>\n",
       "    <tr>\n",
       "      <th>freq</th>\n",
       "      <td>1</td>\n",
       "      <td>4602</td>\n",
       "      <td>5439</td>\n",
       "      <td>8</td>\n",
       "      <td>5915</td>\n",
       "      <td>NaN</td>\n",
       "      <td>8291</td>\n",
       "      <td>NaN</td>\n",
       "      <td>NaN</td>\n",
       "      <td>NaN</td>\n",
       "      <td>NaN</td>\n",
       "      <td>NaN</td>\n",
       "      <td>2</td>\n",
       "      <td>4378</td>\n",
       "    </tr>\n",
       "    <tr>\n",
       "      <th>mean</th>\n",
       "      <td>NaN</td>\n",
       "      <td>NaN</td>\n",
       "      <td>NaN</td>\n",
       "      <td>NaN</td>\n",
       "      <td>NaN</td>\n",
       "      <td>28.827930</td>\n",
       "      <td>NaN</td>\n",
       "      <td>224.687617</td>\n",
       "      <td>458.077203</td>\n",
       "      <td>173.729169</td>\n",
       "      <td>311.138778</td>\n",
       "      <td>304.854791</td>\n",
       "      <td>NaN</td>\n",
       "      <td>NaN</td>\n",
       "    </tr>\n",
       "    <tr>\n",
       "      <th>std</th>\n",
       "      <td>NaN</td>\n",
       "      <td>NaN</td>\n",
       "      <td>NaN</td>\n",
       "      <td>NaN</td>\n",
       "      <td>NaN</td>\n",
       "      <td>14.489021</td>\n",
       "      <td>NaN</td>\n",
       "      <td>666.717663</td>\n",
       "      <td>1611.489240</td>\n",
       "      <td>604.696458</td>\n",
       "      <td>1136.705535</td>\n",
       "      <td>1145.717189</td>\n",
       "      <td>NaN</td>\n",
       "      <td>NaN</td>\n",
       "    </tr>\n",
       "    <tr>\n",
       "      <th>min</th>\n",
       "      <td>NaN</td>\n",
       "      <td>NaN</td>\n",
       "      <td>NaN</td>\n",
       "      <td>NaN</td>\n",
       "      <td>NaN</td>\n",
       "      <td>0.000000</td>\n",
       "      <td>NaN</td>\n",
       "      <td>0.000000</td>\n",
       "      <td>0.000000</td>\n",
       "      <td>0.000000</td>\n",
       "      <td>0.000000</td>\n",
       "      <td>0.000000</td>\n",
       "      <td>NaN</td>\n",
       "      <td>NaN</td>\n",
       "    </tr>\n",
       "    <tr>\n",
       "      <th>25%</th>\n",
       "      <td>NaN</td>\n",
       "      <td>NaN</td>\n",
       "      <td>NaN</td>\n",
       "      <td>NaN</td>\n",
       "      <td>NaN</td>\n",
       "      <td>19.000000</td>\n",
       "      <td>NaN</td>\n",
       "      <td>0.000000</td>\n",
       "      <td>0.000000</td>\n",
       "      <td>0.000000</td>\n",
       "      <td>0.000000</td>\n",
       "      <td>0.000000</td>\n",
       "      <td>NaN</td>\n",
       "      <td>NaN</td>\n",
       "    </tr>\n",
       "    <tr>\n",
       "      <th>50%</th>\n",
       "      <td>NaN</td>\n",
       "      <td>NaN</td>\n",
       "      <td>NaN</td>\n",
       "      <td>NaN</td>\n",
       "      <td>NaN</td>\n",
       "      <td>27.000000</td>\n",
       "      <td>NaN</td>\n",
       "      <td>0.000000</td>\n",
       "      <td>0.000000</td>\n",
       "      <td>0.000000</td>\n",
       "      <td>0.000000</td>\n",
       "      <td>0.000000</td>\n",
       "      <td>NaN</td>\n",
       "      <td>NaN</td>\n",
       "    </tr>\n",
       "    <tr>\n",
       "      <th>75%</th>\n",
       "      <td>NaN</td>\n",
       "      <td>NaN</td>\n",
       "      <td>NaN</td>\n",
       "      <td>NaN</td>\n",
       "      <td>NaN</td>\n",
       "      <td>38.000000</td>\n",
       "      <td>NaN</td>\n",
       "      <td>47.000000</td>\n",
       "      <td>76.000000</td>\n",
       "      <td>27.000000</td>\n",
       "      <td>59.000000</td>\n",
       "      <td>46.000000</td>\n",
       "      <td>NaN</td>\n",
       "      <td>NaN</td>\n",
       "    </tr>\n",
       "    <tr>\n",
       "      <th>max</th>\n",
       "      <td>NaN</td>\n",
       "      <td>NaN</td>\n",
       "      <td>NaN</td>\n",
       "      <td>NaN</td>\n",
       "      <td>NaN</td>\n",
       "      <td>79.000000</td>\n",
       "      <td>NaN</td>\n",
       "      <td>14327.000000</td>\n",
       "      <td>29813.000000</td>\n",
       "      <td>23492.000000</td>\n",
       "      <td>22408.000000</td>\n",
       "      <td>24133.000000</td>\n",
       "      <td>NaN</td>\n",
       "      <td>NaN</td>\n",
       "    </tr>\n",
       "  </tbody>\n",
       "</table>\n",
       "</div>"
      ],
      "text/plain": [
       "       PassengerId HomePlanet CryoSleep    Cabin  Destination          Age  \\\n",
       "count         8693       8492      8476     8494         8511  8514.000000   \n",
       "unique        8693          3         2     6560            3          NaN   \n",
       "top        0001_01      Earth     False  G/734/S  TRAPPIST-1e          NaN   \n",
       "freq             1       4602      5439        8         5915          NaN   \n",
       "mean           NaN        NaN       NaN      NaN          NaN    28.827930   \n",
       "std            NaN        NaN       NaN      NaN          NaN    14.489021   \n",
       "min            NaN        NaN       NaN      NaN          NaN     0.000000   \n",
       "25%            NaN        NaN       NaN      NaN          NaN    19.000000   \n",
       "50%            NaN        NaN       NaN      NaN          NaN    27.000000   \n",
       "75%            NaN        NaN       NaN      NaN          NaN    38.000000   \n",
       "max            NaN        NaN       NaN      NaN          NaN    79.000000   \n",
       "\n",
       "          VIP   RoomService     FoodCourt  ShoppingMall           Spa  \\\n",
       "count    8490   8512.000000   8510.000000   8485.000000   8510.000000   \n",
       "unique      2           NaN           NaN           NaN           NaN   \n",
       "top     False           NaN           NaN           NaN           NaN   \n",
       "freq     8291           NaN           NaN           NaN           NaN   \n",
       "mean      NaN    224.687617    458.077203    173.729169    311.138778   \n",
       "std       NaN    666.717663   1611.489240    604.696458   1136.705535   \n",
       "min       NaN      0.000000      0.000000      0.000000      0.000000   \n",
       "25%       NaN      0.000000      0.000000      0.000000      0.000000   \n",
       "50%       NaN      0.000000      0.000000      0.000000      0.000000   \n",
       "75%       NaN     47.000000     76.000000     27.000000     59.000000   \n",
       "max       NaN  14327.000000  29813.000000  23492.000000  22408.000000   \n",
       "\n",
       "              VRDeck            Name Transported  \n",
       "count    8505.000000            8493        8693  \n",
       "unique           NaN            8473           2  \n",
       "top              NaN  Gollux Reedall        True  \n",
       "freq             NaN               2        4378  \n",
       "mean      304.854791             NaN         NaN  \n",
       "std      1145.717189             NaN         NaN  \n",
       "min         0.000000             NaN         NaN  \n",
       "25%         0.000000             NaN         NaN  \n",
       "50%         0.000000             NaN         NaN  \n",
       "75%        46.000000             NaN         NaN  \n",
       "max     24133.000000             NaN         NaN  "
      ]
     },
     "execution_count": 5,
     "metadata": {},
     "output_type": "execute_result"
    }
   ],
   "source": [
    "space_titanic_train.describe(include='all')"
   ]
  },
  {
   "cell_type": "code",
   "execution_count": 6,
   "metadata": {},
   "outputs": [
    {
     "data": {
      "text/plain": [
       "<Axes: xlabel='HomePlanet', ylabel='Count'>"
      ]
     },
     "execution_count": 6,
     "metadata": {},
     "output_type": "execute_result"
    },
    {
     "data": {
      "image/png": "[encoded data removed]",
      "text/plain": [
       "<Figure size 1300x1000 with 6 Axes>"
      ]
     },
     "metadata": {},
     "output_type": "display_data"
    }
   ],
   "source": [
    "fig, axes = plt.subplots(2,3, figsize=(13, 10))\n",
    "axes = axes.flatten()\n",
    "\n",
    "\n",
    "sns.histplot(data = space_titanic_train, x= 'Age', hue='Transported',  multiple='fill', palette='Set2', ax = axes[0])\n",
    "sns.histplot(data = space_titanic_train, x= 'CryoSleep', hue='Transported',  multiple='fill', palette='Set2', ax = axes[1])\n",
    "sns.histplot(data = space_titanic_train, x= 'HomePlanet', hue='Transported',  multiple='fill', palette='Set2', ax = axes[2])\n",
    "sns.histplot(data = space_titanic_train, x= 'Destination', hue='Transported',  multiple='fill', palette='Set2', ax = axes[3])\n",
    "sns.histplot(data = space_titanic_train, x= 'VIP', hue='Transported',  multiple='fill', palette='Set2', ax = axes[4])\n",
    "sns.histplot(data = space_titanic_train, x= 'HomePlanet', hue='Transported',  multiple='stack', palette='Set2', ax = axes[5])\n"
   ]
  },
  {
   "cell_type": "markdown",
   "metadata": {},
   "source": [
    "# Cleaning and filling missing values"
   ]
  },
  {
   "cell_type": "code",
   "execution_count": 7,
   "metadata": {},
   "outputs": [
    {
     "name": "stdout",
     "output_type": "stream",
     "text": [
      "<class 'pandas.core.frame.DataFrame'>\n",
      "RangeIndex: 8693 entries, 0 to 8692\n",
      "Data columns (total 17 columns):\n",
      " #   Column        Non-Null Count  Dtype  \n",
      "---  ------        --------------  -----  \n",
      " 0   PassengerId   8693 non-null   object \n",
      " 1   HomePlanet    8693 non-null   string \n",
      " 2   CryoSleep     8693 non-null   bool   \n",
      " 3   Cabin         8494 non-null   object \n",
      " 4   Destination   8693 non-null   string \n",
      " 5   Age           8693 non-null   float64\n",
      " 6   VIP           8693 non-null   bool   \n",
      " 7   RoomService   8693 non-null   float64\n",
      " 8   FoodCourt     8693 non-null   float64\n",
      " 9   ShoppingMall  8693 non-null   float64\n",
      " 10  Spa           8693 non-null   float64\n",
      " 11  VRDeck        8693 non-null   float64\n",
      " 12  Name          8493 non-null   object \n",
      " 13  Transported   8693 non-null   bool   \n",
      " 14  cabin_1       8693 non-null   object \n",
      " 15  cabin_2       8494 non-null   object \n",
      " 16  cabin_3       8693 non-null   object \n",
      "dtypes: bool(3), float64(6), object(6), string(2)\n",
      "memory usage: 976.4+ KB\n"
     ]
    }
   ],
   "source": [
    "space_titanic_train['VIP'] = space_titanic_train['VIP'].fillna(False)\n",
    "space_titanic_train['VIP'] = space_titanic_train['VIP'].astype('bool')\n",
    "\n",
    "space_titanic_train['CryoSleep'] = space_titanic_train['CryoSleep'].fillna(False)\n",
    "\n",
    "space_titanic_train['Age'] = space_titanic_train['Age'].fillna(space_titanic_train['Age'].mode()[0])\n",
    "\n",
    "\n",
    "space_titanic_train[['HomePlanet', 'Destination']] = space_titanic_train[['HomePlanet', 'Destination']].fillna('other')\n",
    "space_titanic_train[['HomePlanet', 'Destination']] = space_titanic_train[['HomePlanet', 'Destination']].astype('string')\n",
    "\n",
    "space_titanic_train[['cabin_1', 'cabin_2', 'cabin_3']] = space_titanic_train['Cabin'].str.split('/', expand=True)\n",
    "space_titanic_train[['cabin_1', 'cabin_3']] = space_titanic_train[['cabin_1', 'cabin_3']].fillna('O')\n",
    "\n",
    "space_titanic_train[['RoomService', 'FoodCourt', 'ShoppingMall', 'Spa', 'VRDeck']] = space_titanic_train[['RoomService', 'FoodCourt', 'ShoppingMall', 'Spa', 'VRDeck']].fillna(0)\n",
    "space_titanic_train.info()"
   ]
  },
  {
   "cell_type": "markdown",
   "metadata": {},
   "source": [
    "Potential additional feature engineering:\n",
    " - adult/child\n",
    " - travel as a family\n",
    " - total spend\n",
    " - spent anything 1/0"
   ]
  },
  {
   "cell_type": "code",
   "execution_count": 8,
   "metadata": {},
   "outputs": [
    {
     "data": {
      "text/html": [
       "<div>\n",
       "<style scoped>\n",
       "    .dataframe tbody tr th:only-of-type {\n",
       "        vertical-align: middle;\n",
       "    }\n",
       "\n",
       "    .dataframe tbody tr th {\n",
       "        vertical-align: top;\n",
       "    }\n",
       "\n",
       "    .dataframe thead th {\n",
       "        text-align: right;\n",
       "    }\n",
       "</style>\n",
       "<table border=\"1\" class=\"dataframe\">\n",
       "  <thead>\n",
       "    <tr style=\"text-align: right;\">\n",
       "      <th></th>\n",
       "      <th>HomePlanet</th>\n",
       "      <th>CryoSleep</th>\n",
       "      <th>Destination</th>\n",
       "      <th>Age</th>\n",
       "      <th>VIP</th>\n",
       "      <th>RoomService</th>\n",
       "      <th>FoodCourt</th>\n",
       "      <th>ShoppingMall</th>\n",
       "      <th>Spa</th>\n",
       "      <th>VRDeck</th>\n",
       "      <th>Transported</th>\n",
       "      <th>cabin_1</th>\n",
       "      <th>cabin_3</th>\n",
       "    </tr>\n",
       "  </thead>\n",
       "  <tbody>\n",
       "    <tr>\n",
       "      <th>0</th>\n",
       "      <td>Europa</td>\n",
       "      <td>False</td>\n",
       "      <td>TRAPPIST-1e</td>\n",
       "      <td>39.0</td>\n",
       "      <td>False</td>\n",
       "      <td>0.0</td>\n",
       "      <td>0.0</td>\n",
       "      <td>0.0</td>\n",
       "      <td>0.0</td>\n",
       "      <td>0.0</td>\n",
       "      <td>False</td>\n",
       "      <td>B</td>\n",
       "      <td>P</td>\n",
       "    </tr>\n",
       "    <tr>\n",
       "      <th>1</th>\n",
       "      <td>Earth</td>\n",
       "      <td>False</td>\n",
       "      <td>TRAPPIST-1e</td>\n",
       "      <td>24.0</td>\n",
       "      <td>False</td>\n",
       "      <td>109.0</td>\n",
       "      <td>9.0</td>\n",
       "      <td>25.0</td>\n",
       "      <td>549.0</td>\n",
       "      <td>44.0</td>\n",
       "      <td>True</td>\n",
       "      <td>F</td>\n",
       "      <td>S</td>\n",
       "    </tr>\n",
       "    <tr>\n",
       "      <th>2</th>\n",
       "      <td>Europa</td>\n",
       "      <td>False</td>\n",
       "      <td>TRAPPIST-1e</td>\n",
       "      <td>58.0</td>\n",
       "      <td>True</td>\n",
       "      <td>43.0</td>\n",
       "      <td>3576.0</td>\n",
       "      <td>0.0</td>\n",
       "      <td>6715.0</td>\n",
       "      <td>49.0</td>\n",
       "      <td>False</td>\n",
       "      <td>A</td>\n",
       "      <td>S</td>\n",
       "    </tr>\n",
       "    <tr>\n",
       "      <th>3</th>\n",
       "      <td>Europa</td>\n",
       "      <td>False</td>\n",
       "      <td>TRAPPIST-1e</td>\n",
       "      <td>33.0</td>\n",
       "      <td>False</td>\n",
       "      <td>0.0</td>\n",
       "      <td>1283.0</td>\n",
       "      <td>371.0</td>\n",
       "      <td>3329.0</td>\n",
       "      <td>193.0</td>\n",
       "      <td>False</td>\n",
       "      <td>A</td>\n",
       "      <td>S</td>\n",
       "    </tr>\n",
       "    <tr>\n",
       "      <th>4</th>\n",
       "      <td>Earth</td>\n",
       "      <td>False</td>\n",
       "      <td>TRAPPIST-1e</td>\n",
       "      <td>16.0</td>\n",
       "      <td>False</td>\n",
       "      <td>303.0</td>\n",
       "      <td>70.0</td>\n",
       "      <td>151.0</td>\n",
       "      <td>565.0</td>\n",
       "      <td>2.0</td>\n",
       "      <td>True</td>\n",
       "      <td>F</td>\n",
       "      <td>S</td>\n",
       "    </tr>\n",
       "  </tbody>\n",
       "</table>\n",
       "</div>"
      ],
      "text/plain": [
       "  HomePlanet  CryoSleep  Destination   Age    VIP  RoomService  FoodCourt  \\\n",
       "0     Europa      False  TRAPPIST-1e  39.0  False          0.0        0.0   \n",
       "1      Earth      False  TRAPPIST-1e  24.0  False        109.0        9.0   \n",
       "2     Europa      False  TRAPPIST-1e  58.0   True         43.0     3576.0   \n",
       "3     Europa      False  TRAPPIST-1e  33.0  False          0.0     1283.0   \n",
       "4      Earth      False  TRAPPIST-1e  16.0  False        303.0       70.0   \n",
       "\n",
       "   ShoppingMall     Spa  VRDeck  Transported cabin_1 cabin_3  \n",
       "0           0.0     0.0     0.0        False       B       P  \n",
       "1          25.0   549.0    44.0         True       F       S  \n",
       "2           0.0  6715.0    49.0        False       A       S  \n",
       "3         371.0  3329.0   193.0        False       A       S  \n",
       "4         151.0   565.0     2.0         True       F       S  "
      ]
     },
     "execution_count": 8,
     "metadata": {},
     "output_type": "execute_result"
    }
   ],
   "source": [
    "space_titanic_train = space_titanic_train.drop(['PassengerId', 'Name', 'Cabin', 'cabin_2'], axis = 1)\n",
    "space_titanic_train.head()"
   ]
  },
  {
   "cell_type": "markdown",
   "metadata": {},
   "source": [
    "Create train, test and validation sets"
   ]
  },
  {
   "cell_type": "code",
   "execution_count": 9,
   "metadata": {},
   "outputs": [
    {
     "name": "stdout",
     "output_type": "stream",
     "text": [
      "5563 train examples\n",
      "1391 validation examples\n",
      "1739 test examples\n"
     ]
    }
   ],
   "source": [
    "train, test = train_test_split(space_titanic_train, test_size=0.2)\n",
    "train, val = train_test_split(train, test_size=0.2)\n",
    "print(len(train), 'train examples')\n",
    "print(len(val), 'validation examples')\n",
    "print(len(test), 'test examples')"
   ]
  },
  {
   "cell_type": "markdown",
   "metadata": {},
   "source": [
    "# Create input pipeline"
   ]
  },
  {
   "cell_type": "code",
   "execution_count": 10,
   "metadata": {},
   "outputs": [],
   "source": [
    "def to_dataset(dataframe, shuffle=True, batch_size=32):\n",
    "    df = dataframe.copy()\n",
    "    labels = df.pop('Transported')\n",
    "    df = {key: value.values[:,tf.newaxis] for key, value in dataframe.items()}\n",
    "    ds = tf.data.Dataset.from_tensor_slices((dict(df), labels))\n",
    "    if shuffle:\n",
    "        ds = ds.shuffle(buffer_size=len(dataframe))\n",
    "    ds = ds.batch(batch_size)\n",
    "    ds = ds.prefetch(batch_size)\n",
    "    return ds"
   ]
  },
  {
   "cell_type": "markdown",
   "metadata": {},
   "source": [
    "Visualise a small batch"
   ]
  },
  {
   "cell_type": "code",
   "execution_count": 11,
   "metadata": {},
   "outputs": [],
   "source": [
    "train_ds = to_dataset(train, batch_size=5)"
   ]
  },
  {
   "cell_type": "code",
   "execution_count": 12,
   "metadata": {},
   "outputs": [
    {
     "name": "stdout",
     "output_type": "stream",
     "text": [
      "Every feature: ['HomePlanet', 'CryoSleep', 'Destination', 'Age', 'VIP', 'RoomService', 'FoodCourt', 'ShoppingMall', 'Spa', 'VRDeck', 'Transported', 'cabin_1', 'cabin_3']\n",
      "A batch of HomePlanet: tf.Tensor(\n",
      "[[b'Earth']\n",
      " [b'Mars']\n",
      " [b'Earth']\n",
      " [b'Earth']\n",
      " [b'Earth']], shape=(5, 1), dtype=string)\n",
      "A batch of targets: tf.Tensor([False  True  True  True  True], shape=(5,), dtype=bool)\n"
     ]
    }
   ],
   "source": [
    "[(train_features, label_batch)] = train_ds.take(1)\n",
    "print('Every feature:', list(train_features.keys()))\n",
    "print('A batch of HomePlanet:', train_features['HomePlanet'])\n",
    "print('A batch of targets:', label_batch )"
   ]
  },
  {
   "cell_type": "markdown",
   "metadata": {},
   "source": [
    "# Create preprocessing layers\n",
    "\n",
    "### For numerical features"
   ]
  },
  {
   "cell_type": "code",
   "execution_count": 13,
   "metadata": {},
   "outputs": [],
   "source": [
    "def get_normalization_layer(name, dataset):\n",
    "  normalizer = layers.Normalization(axis=None)\n",
    "  feature_ds = dataset.map(lambda x, y: x[name])\n",
    "  normalizer.adapt(feature_ds)\n",
    "  return normalizer"
   ]
  },
  {
   "cell_type": "markdown",
   "metadata": {},
   "source": [
    "Let's look a the results for 'ShoppingMall'"
   ]
  },
  {
   "cell_type": "code",
   "execution_count": 14,
   "metadata": {},
   "outputs": [
    {
     "data": {
      "text/plain": [
       "<tf.Tensor: shape=(5, 1), dtype=float32, numpy=\n",
       "array([[-0.2681932],\n",
       "       [ 1.165791 ],\n",
       "       [-0.2681932],\n",
       "       [-0.2681932],\n",
       "       [-0.2681932]], dtype=float32)>"
      ]
     },
     "execution_count": 14,
     "metadata": {},
     "output_type": "execute_result"
    }
   ],
   "source": [
    "shopping_mall = train_features['ShoppingMall']\n",
    "layer = get_normalization_layer('ShoppingMall', train_ds)\n",
    "layer(shopping_mall)"
   ]
  },
  {
   "cell_type": "markdown",
   "metadata": {},
   "source": [
    "### For categorical features"
   ]
  },
  {
   "cell_type": "code",
   "execution_count": 15,
   "metadata": {},
   "outputs": [],
   "source": [
    "def get_category_encoding_layer(name, dataset, max_tokens=None):\n",
    "  index = layers.StringLookup(max_tokens=max_tokens)\n",
    "\n",
    "  feature_ds = dataset.map(lambda x, y: x[name])\n",
    "  index.adapt(feature_ds)\n",
    "  encoder = layers.CategoryEncoding(num_tokens=index.vocabulary_size())\n",
    "  return lambda feature: encoder(index(feature))\n"
   ]
  },
  {
   "cell_type": "markdown",
   "metadata": {},
   "source": [
    "Let's look at the results for the column 'HomePlanet'"
   ]
  },
  {
   "cell_type": "code",
   "execution_count": 16,
   "metadata": {},
   "outputs": [
    {
     "data": {
      "text/plain": [
       "<tf.Tensor: shape=(5, 5), dtype=float32, numpy=\n",
       "array([[0., 1., 0., 0., 0.],\n",
       "       [0., 0., 0., 1., 0.],\n",
       "       [0., 1., 0., 0., 0.],\n",
       "       [0., 1., 0., 0., 0.],\n",
       "       [0., 1., 0., 0., 0.]], dtype=float32)>"
      ]
     },
     "execution_count": 16,
     "metadata": {},
     "output_type": "execute_result"
    }
   ],
   "source": [
    "type_col = train_features['HomePlanet']\n",
    "layer = get_category_encoding_layer('HomePlanet', train_ds)\n",
    "layer(type_col)"
   ]
  },
  {
   "cell_type": "code",
   "execution_count": 17,
   "metadata": {},
   "outputs": [],
   "source": [
    "batch_size = 256\n",
    "train_ds = to_dataset(train, batch_size=batch_size)\n",
    "test_ds = to_dataset(test, shuffle=False, batch_size=batch_size)\n",
    "val_ds = to_dataset(val, shuffle=False, batch_size=batch_size)\n"
   ]
  },
  {
   "cell_type": "code",
   "execution_count": 18,
   "metadata": {},
   "outputs": [],
   "source": [
    "numeric_feature_columns = ['RoomService', 'FoodCourt', 'ShoppingMall', 'Spa', 'VRDeck']\n",
    "other_feature_columns = ['Age', 'CryoSleep', 'VIP']\n",
    "categ_feature_columns = ['HomePlanet', 'Destination', 'cabin_1', 'cabin_3']"
   ]
  },
  {
   "cell_type": "code",
   "execution_count": 19,
   "metadata": {},
   "outputs": [],
   "source": [
    "inputs = []\n",
    "preprocessed = []"
   ]
  },
  {
   "cell_type": "code",
   "execution_count": 20,
   "metadata": {},
   "outputs": [],
   "source": [
    "for name in numeric_feature_columns:\n",
    "    numeric_column = tf.keras.Input(shape=(1,), name=name)\n",
    "    norm_layer = get_normalization_layer(name, train_ds)\n",
    "    encoded_numeric_column = norm_layer(numeric_column)\n",
    "    inputs.append(numeric_column)\n",
    "    preprocessed.append(encoded_numeric_column)"
   ]
  },
  {
   "cell_type": "code",
   "execution_count": 21,
   "metadata": {},
   "outputs": [],
   "source": [
    "for name in categ_feature_columns:\n",
    "    categ_column = tf.keras.Input(shape=(1,), dtype='string', name=name)\n",
    "    categ_layer = get_category_encoding_layer(name, train_ds)\n",
    "    encoded_categ_column = categ_layer(categ_column)\n",
    "    inputs.append(categ_column)\n",
    "    preprocessed.append(encoded_categ_column)"
   ]
  },
  {
   "cell_type": "code",
   "execution_count": 22,
   "metadata": {},
   "outputs": [],
   "source": [
    "for name in other_feature_columns:\n",
    "    col = tf.keras.Input(shape=(1,), dtype='float32', name=name)\n",
    "    \n",
    "    inputs.append(col)\n",
    "    \n",
    "    preprocessed.append(col)"
   ]
  },
  {
   "cell_type": "markdown",
   "metadata": {},
   "source": [
    "Let's look at 'inputs' and 'preprocessed' lists before and after preprocessing"
   ]
  },
  {
   "cell_type": "code",
   "execution_count": 23,
   "metadata": {},
   "outputs": [
    {
     "data": {
      "text/plain": [
       "[<KerasTensor: shape=(None, 1) dtype=float32 (created by layer 'RoomService')>,\n",
       " <KerasTensor: shape=(None, 1) dtype=float32 (created by layer 'FoodCourt')>,\n",
       " <KerasTensor: shape=(None, 1) dtype=float32 (created by layer 'ShoppingMall')>,\n",
       " <KerasTensor: shape=(None, 1) dtype=float32 (created by layer 'Spa')>,\n",
       " <KerasTensor: shape=(None, 1) dtype=float32 (created by layer 'VRDeck')>,\n",
       " <KerasTensor: shape=(None, 1) dtype=string (created by layer 'HomePlanet')>,\n",
       " <KerasTensor: shape=(None, 1) dtype=string (created by layer 'Destination')>,\n",
       " <KerasTensor: shape=(None, 1) dtype=string (created by layer 'cabin_1')>,\n",
       " <KerasTensor: shape=(None, 1) dtype=string (created by layer 'cabin_3')>,\n",
       " <KerasTensor: shape=(None, 1) dtype=float32 (created by layer 'Age')>,\n",
       " <KerasTensor: shape=(None, 1) dtype=float32 (created by layer 'CryoSleep')>,\n",
       " <KerasTensor: shape=(None, 1) dtype=float32 (created by layer 'VIP')>]"
      ]
     },
     "execution_count": 23,
     "metadata": {},
     "output_type": "execute_result"
    }
   ],
   "source": [
    "inputs"
   ]
  },
  {
   "cell_type": "code",
   "execution_count": 24,
   "metadata": {},
   "outputs": [
    {
     "data": {
      "text/plain": [
       "[<KerasTensor: shape=(None, 1) dtype=float32 (created by layer 'normalization_1')>,\n",
       " <KerasTensor: shape=(None, 1) dtype=float32 (created by layer 'normalization_2')>,\n",
       " <KerasTensor: shape=(None, 1) dtype=float32 (created by layer 'normalization_3')>,\n",
       " <KerasTensor: shape=(None, 1) dtype=float32 (created by layer 'normalization_4')>,\n",
       " <KerasTensor: shape=(None, 1) dtype=float32 (created by layer 'normalization_5')>,\n",
       " <KerasTensor: shape=(None, 5) dtype=float32 (created by layer 'category_encoding_1')>,\n",
       " <KerasTensor: shape=(None, 5) dtype=float32 (created by layer 'category_encoding_2')>,\n",
       " <KerasTensor: shape=(None, 10) dtype=float32 (created by layer 'category_encoding_3')>,\n",
       " <KerasTensor: shape=(None, 4) dtype=float32 (created by layer 'category_encoding_4')>,\n",
       " <KerasTensor: shape=(None, 1) dtype=float32 (created by layer 'Age')>,\n",
       " <KerasTensor: shape=(None, 1) dtype=float32 (created by layer 'CryoSleep')>,\n",
       " <KerasTensor: shape=(None, 1) dtype=float32 (created by layer 'VIP')>]"
      ]
     },
     "execution_count": 24,
     "metadata": {},
     "output_type": "execute_result"
    }
   ],
   "source": [
    "preprocessed"
   ]
  },
  {
   "cell_type": "markdown",
   "metadata": {},
   "source": [
    "### Create, compile and train the model"
   ]
  },
  {
   "cell_type": "code",
   "execution_count": 25,
   "metadata": {},
   "outputs": [],
   "source": [
    "all_features = tf.keras.layers.concatenate(preprocessed)\n",
    "x = tf.keras.layers.Dense(32, activation=\"relu\")(all_features)\n",
    "x = tf.keras.layers.Dropout(0.5)(x)\n",
    "output = tf.keras.layers.Dense(2, activation='softmax')(x)\n",
    "\n",
    "model = tf.keras.Model(inputs, output)\n",
    "model.compile(optimizer='adam',\n",
    "              loss=SparseCategoricalCrossentropy(), \n",
    "              metrics=['accuracy'])\n"
   ]
  },
  {
   "cell_type": "code",
   "execution_count": 26,
   "metadata": {},
   "outputs": [
    {
     "name": "stdout",
     "output_type": "stream",
     "text": [
      "Model: \"model\"\n",
      "__________________________________________________________________________________________________\n",
      " Layer (type)                Output Shape                 Param #   Connected to                  \n",
      "==================================================================================================\n",
      " HomePlanet (InputLayer)     [(None, 1)]                  0         []                            \n",
      "                                                                                                  \n",
      " Destination (InputLayer)    [(None, 1)]                  0         []                            \n",
      "                                                                                                  \n",
      " cabin_1 (InputLayer)        [(None, 1)]                  0         []                            \n",
      "                                                                                                  \n",
      " cabin_3 (InputLayer)        [(None, 1)]                  0         []                            \n",
      "                                                                                                  \n",
      " RoomService (InputLayer)    [(None, 1)]                  0         []                            \n",
      "                                                                                                  \n",
      " FoodCourt (InputLayer)      [(None, 1)]                  0         []                            \n",
      "                                                                                                  \n",
      " ShoppingMall (InputLayer)   [(None, 1)]                  0         []                            \n",
      "                                                                                                  \n",
      " Spa (InputLayer)            [(None, 1)]                  0         []                            \n",
      "                                                                                                  \n",
      " VRDeck (InputLayer)         [(None, 1)]                  0         []                            \n",
      "                                                                                                  \n",
      " string_lookup_1 (StringLoo  (None, 1)                    0         ['HomePlanet[0][0]']          \n",
      " kup)                                                                                             \n",
      "                                                                                                  \n",
      " string_lookup_2 (StringLoo  (None, 1)                    0         ['Destination[0][0]']         \n",
      " kup)                                                                                             \n",
      "                                                                                                  \n",
      " string_lookup_3 (StringLoo  (None, 1)                    0         ['cabin_1[0][0]']             \n",
      " kup)                                                                                             \n",
      "                                                                                                  \n",
      " string_lookup_4 (StringLoo  (None, 1)                    0         ['cabin_3[0][0]']             \n",
      " kup)                                                                                             \n",
      "                                                                                                  \n",
      " normalization_1 (Normaliza  (None, 1)                    3         ['RoomService[0][0]']         \n",
      " tion)                                                                                            \n",
      "                                                                                                  \n",
      " normalization_2 (Normaliza  (None, 1)                    3         ['FoodCourt[0][0]']           \n",
      " tion)                                                                                            \n",
      "                                                                                                  \n",
      " normalization_3 (Normaliza  (None, 1)                    3         ['ShoppingMall[0][0]']        \n",
      " tion)                                                                                            \n",
      "                                                                                                  \n",
      " normalization_4 (Normaliza  (None, 1)                    3         ['Spa[0][0]']                 \n",
      " tion)                                                                                            \n",
      "                                                                                                  \n",
      " normalization_5 (Normaliza  (None, 1)                    3         ['VRDeck[0][0]']              \n",
      " tion)                                                                                            \n",
      "                                                                                                  \n",
      " category_encoding_1 (Categ  (None, 5)                    0         ['string_lookup_1[0][0]']     \n",
      " oryEncoding)                                                                                     \n",
      "                                                                                                  \n",
      " category_encoding_2 (Categ  (None, 5)                    0         ['string_lookup_2[0][0]']     \n",
      " oryEncoding)                                                                                     \n",
      "                                                                                                  \n",
      " category_encoding_3 (Categ  (None, 10)                   0         ['string_lookup_3[0][0]']     \n",
      " oryEncoding)                                                                                     \n",
      "                                                                                                  \n",
      " category_encoding_4 (Categ  (None, 4)                    0         ['string_lookup_4[0][0]']     \n",
      " oryEncoding)                                                                                     \n",
      "                                                                                                  \n",
      " Age (InputLayer)            [(None, 1)]                  0         []                            \n",
      "                                                                                                  \n",
      " CryoSleep (InputLayer)      [(None, 1)]                  0         []                            \n",
      "                                                                                                  \n",
      " VIP (InputLayer)            [(None, 1)]                  0         []                            \n",
      "                                                                                                  \n",
      " concatenate (Concatenate)   (None, 32)                   0         ['normalization_1[0][0]',     \n",
      "                                                                     'normalization_2[0][0]',     \n",
      "                                                                     'normalization_3[0][0]',     \n",
      "                                                                     'normalization_4[0][0]',     \n",
      "                                                                     'normalization_5[0][0]',     \n",
      "                                                                     'category_encoding_1[0][0]', \n",
      "                                                                     'category_encoding_2[0][0]', \n",
      "                                                                     'category_encoding_3[0][0]', \n",
      "                                                                     'category_encoding_4[0][0]', \n",
      "                                                                     'Age[0][0]',                 \n",
      "                                                                     'CryoSleep[0][0]',           \n",
      "                                                                     'VIP[0][0]']                 \n",
      "                                                                                                  \n",
      " dense (Dense)               (None, 32)                   1056      ['concatenate[0][0]']         \n",
      "                                                                                                  \n",
      " dropout (Dropout)           (None, 32)                   0         ['dense[0][0]']               \n",
      "                                                                                                  \n",
      " dense_1 (Dense)             (None, 2)                    66        ['dropout[0][0]']             \n",
      "                                                                                                  \n",
      "==================================================================================================\n",
      "Total params: 1137 (4.46 KB)\n",
      "Trainable params: 1122 (4.38 KB)\n",
      "Non-trainable params: 15 (80.00 Byte)\n",
      "__________________________________________________________________________________________________\n"
     ]
    }
   ],
   "source": [
    "model.summary()"
   ]
  },
  {
   "cell_type": "code",
   "execution_count": 27,
   "metadata": {},
   "outputs": [
    {
     "name": "stdout",
     "output_type": "stream",
     "text": [
      "Epoch 1/10\n"
     ]
    },
    {
     "name": "stderr",
     "output_type": "stream",
     "text": [
      "/Users/claireschultzberg/Repository/ml_101/venv/lib/python3.11/site-packages/keras/src/engine/functional.py:642: UserWarning: Input dict contained keys ['Transported'] which did not match any model input. They will be ignored by the model.\n",
      "  inputs = self._flatten_to_reference_inputs(inputs)\n"
     ]
    },
    {
     "name": "stdout",
     "output_type": "stream",
     "text": [
      "22/22 [==============================] - 1s 9ms/step - loss: 2.9849 - accuracy: 0.5071 - val_loss: 0.6471 - val_accuracy: 0.6391\n",
      "Epoch 2/10\n",
      "22/22 [==============================] - 0s 2ms/step - loss: 2.3739 - accuracy: 0.5276 - val_loss: 0.6597 - val_accuracy: 0.6219\n",
      "Epoch 3/10\n",
      "22/22 [==============================] - 0s 2ms/step - loss: 1.8534 - accuracy: 0.5477 - val_loss: 0.6040 - val_accuracy: 0.6858\n",
      "Epoch 4/10\n",
      "22/22 [==============================] - 0s 1ms/step - loss: 1.5566 - accuracy: 0.5508 - val_loss: 0.5639 - val_accuracy: 0.7383\n",
      "Epoch 5/10\n",
      "22/22 [==============================] - 0s 2ms/step - loss: 1.2119 - accuracy: 0.5711 - val_loss: 0.5476 - val_accuracy: 0.7455\n",
      "Epoch 6/10\n",
      "22/22 [==============================] - 0s 1ms/step - loss: 1.0069 - accuracy: 0.6009 - val_loss: 0.5208 - val_accuracy: 0.7498\n",
      "Epoch 7/10\n",
      "22/22 [==============================] - 0s 2ms/step - loss: 0.8127 - accuracy: 0.6243 - val_loss: 0.5048 - val_accuracy: 0.7649\n",
      "Epoch 8/10\n",
      "22/22 [==============================] - 0s 2ms/step - loss: 0.6846 - accuracy: 0.6592 - val_loss: 0.4940 - val_accuracy: 0.7735\n",
      "Epoch 9/10\n",
      "22/22 [==============================] - 0s 2ms/step - loss: 0.6381 - accuracy: 0.6775 - val_loss: 0.4865 - val_accuracy: 0.7800\n",
      "Epoch 10/10\n",
      "22/22 [==============================] - 0s 1ms/step - loss: 0.6052 - accuracy: 0.6910 - val_loss: 0.4848 - val_accuracy: 0.7750\n"
     ]
    },
    {
     "data": {
      "text/plain": [
       "<keras.src.callbacks.History at 0x2988e6dd0>"
      ]
     },
     "execution_count": 27,
     "metadata": {},
     "output_type": "execute_result"
    }
   ],
   "source": [
    "model.fit(train_ds, epochs=10, validation_data=val_ds)"
   ]
  },
  {
   "cell_type": "markdown",
   "metadata": {},
   "source": [
    "### Evaluate the model"
   ]
  },
  {
   "cell_type": "code",
   "execution_count": 28,
   "metadata": {},
   "outputs": [
    {
     "name": "stdout",
     "output_type": "stream",
     "text": [
      "7/7 [==============================] - 0s 1ms/step - loss: 0.4840 - accuracy: 0.7775\n",
      "Accuracy 0.7774583101272583\n"
     ]
    }
   ],
   "source": [
    "loss, accuracy = model.evaluate(test_ds)\n",
    "print(\"Accuracy\", accuracy)"
   ]
  },
  {
   "cell_type": "code",
   "execution_count": 29,
   "metadata": {},
   "outputs": [
    {
     "name": "stdout",
     "output_type": "stream",
     "text": [
      "7/7 [==============================] - 0s 918us/step\n"
     ]
    }
   ],
   "source": [
    "prediction = model.predict(test_ds)\n",
    "prediction_binary = np.where(prediction[:,1] > 0.5, True, False)"
   ]
  },
  {
   "cell_type": "code",
   "execution_count": 30,
   "metadata": {},
   "outputs": [
    {
     "name": "stdout",
     "output_type": "stream",
     "text": [
      "Confusion Matrix:\n",
      "[[722 154]\n",
      " [233 630]]\n"
     ]
    }
   ],
   "source": [
    "cm = confusion_matrix(test['Transported'], prediction_binary)\n",
    "\n",
    "print(\"Confusion Matrix:\")\n",
    "print(cm)"
   ]
  },
  {
   "cell_type": "markdown",
   "metadata": {},
   "source": [
    "Save the model for later use"
   ]
  },
  {
   "cell_type": "code",
   "execution_count": 41,
   "metadata": {},
   "outputs": [
    {
     "name": "stdout",
     "output_type": "stream",
     "text": [
      "INFO:tensorflow:Assets written to: models/space_titanic/assets\n"
     ]
    },
    {
     "name": "stderr",
     "output_type": "stream",
     "text": [
      "INFO:tensorflow:Assets written to: models/space_titanic/assets\n"
     ]
    }
   ],
   "source": [
    "model.save('models/space_titanic')\n",
    "reloaded_model = tf.keras.models.load_model('models/space_titanic')"
   ]
  },
  {
   "cell_type": "markdown",
   "metadata": {},
   "source": [
    "# Predict on unseen data"
   ]
  },
  {
   "cell_type": "code",
   "execution_count": 32,
   "metadata": {},
   "outputs": [
    {
     "name": "stdout",
     "output_type": "stream",
     "text": [
      "<class 'pandas.core.frame.DataFrame'>\n",
      "RangeIndex: 4277 entries, 0 to 4276\n",
      "Data columns (total 13 columns):\n",
      " #   Column        Non-Null Count  Dtype  \n",
      "---  ------        --------------  -----  \n",
      " 0   PassengerId   4277 non-null   object \n",
      " 1   HomePlanet    4190 non-null   object \n",
      " 2   CryoSleep     4184 non-null   object \n",
      " 3   Cabin         4177 non-null   object \n",
      " 4   Destination   4185 non-null   object \n",
      " 5   Age           4186 non-null   float64\n",
      " 6   VIP           4184 non-null   object \n",
      " 7   RoomService   4195 non-null   float64\n",
      " 8   FoodCourt     4171 non-null   float64\n",
      " 9   ShoppingMall  4179 non-null   float64\n",
      " 10  Spa           4176 non-null   float64\n",
      " 11  VRDeck        4197 non-null   float64\n",
      " 12  Name          4183 non-null   object \n",
      "dtypes: float64(6), object(7)\n",
      "memory usage: 434.5+ KB\n"
     ]
    }
   ],
   "source": [
    "space_titanic_test = pd.read_csv('data/space_titanic_test.csv')\n",
    "space_titanic_test.info()"
   ]
  },
  {
   "cell_type": "markdown",
   "metadata": {},
   "source": [
    "### Prepare the data\n",
    "\n",
    "Since the normlisation and encoding is performed in the preprocessing layer we only need to set the right column type, fill the missing values and drop unused columns."
   ]
  },
  {
   "cell_type": "code",
   "execution_count": 33,
   "metadata": {},
   "outputs": [
    {
     "name": "stdout",
     "output_type": "stream",
     "text": [
      "<class 'pandas.core.frame.DataFrame'>\n",
      "RangeIndex: 4277 entries, 0 to 4276\n",
      "Data columns (total 16 columns):\n",
      " #   Column        Non-Null Count  Dtype  \n",
      "---  ------        --------------  -----  \n",
      " 0   PassengerId   4277 non-null   object \n",
      " 1   HomePlanet    4277 non-null   string \n",
      " 2   CryoSleep     4277 non-null   bool   \n",
      " 3   Cabin         4177 non-null   object \n",
      " 4   Destination   4277 non-null   string \n",
      " 5   Age           4277 non-null   float64\n",
      " 6   VIP           4277 non-null   bool   \n",
      " 7   RoomService   4277 non-null   float64\n",
      " 8   FoodCourt     4277 non-null   float64\n",
      " 9   ShoppingMall  4277 non-null   float64\n",
      " 10  Spa           4277 non-null   float64\n",
      " 11  VRDeck        4277 non-null   float64\n",
      " 12  Name          4183 non-null   object \n",
      " 13  cabin_1       4277 non-null   object \n",
      " 14  cabin_2       4177 non-null   object \n",
      " 15  cabin_3       4277 non-null   object \n",
      "dtypes: bool(2), float64(6), object(6), string(2)\n",
      "memory usage: 476.3+ KB\n"
     ]
    }
   ],
   "source": [
    "space_titanic_test['VIP'] = space_titanic_test['VIP'].fillna(False)\n",
    "space_titanic_test['VIP'] = space_titanic_test['VIP'].astype('bool')\n",
    "\n",
    "space_titanic_test['CryoSleep'] = space_titanic_test['CryoSleep'].fillna(False)\n",
    "\n",
    "space_titanic_test['Age'] = space_titanic_test['Age'].fillna(space_titanic_test['Age'].mode()[0])\n",
    "\n",
    "\n",
    "space_titanic_test[['HomePlanet', 'Destination']] = space_titanic_test[['HomePlanet', 'Destination']].fillna('other')\n",
    "space_titanic_test[['HomePlanet', 'Destination']] = space_titanic_test[['HomePlanet', 'Destination']].astype('string')\n",
    "\n",
    "space_titanic_test[['cabin_1', 'cabin_2', 'cabin_3']] = space_titanic_test['Cabin'].str.split('/', expand=True)\n",
    "space_titanic_test[['cabin_1', 'cabin_3']] = space_titanic_test[['cabin_1', 'cabin_3']].fillna('O')\n",
    "\n",
    "space_titanic_test[['RoomService', 'FoodCourt', 'ShoppingMall', 'Spa', 'VRDeck']] = space_titanic_test[['RoomService', 'FoodCourt', 'ShoppingMall', 'Spa', 'VRDeck']].fillna(0)\n",
    "space_titanic_test.info()"
   ]
  },
  {
   "cell_type": "code",
   "execution_count": 34,
   "metadata": {},
   "outputs": [],
   "source": [
    "space_titanic_test = space_titanic_test.drop(['PassengerId', 'Name', 'Cabin', 'cabin_2'], axis = 1)"
   ]
  },
  {
   "cell_type": "code",
   "execution_count": 35,
   "metadata": {},
   "outputs": [],
   "source": [
    "df = space_titanic_test.copy()\n",
    "df = {key: value.values[:,tf.newaxis] for key, value in space_titanic_test.items()}\n",
    "ds = tf.data.Dataset.from_tensor_slices((dict(df)))"
   ]
  },
  {
   "cell_type": "markdown",
   "metadata": {},
   "source": [
    "### Predict from reloaded model"
   ]
  },
  {
   "cell_type": "code",
   "execution_count": 36,
   "metadata": {},
   "outputs": [
    {
     "name": "stdout",
     "output_type": "stream",
     "text": [
      "4277/4277 [==============================] - 3s 591us/step\n"
     ]
    }
   ],
   "source": [
    "predictions = reloaded_model.predict(ds)"
   ]
  },
  {
   "cell_type": "code",
   "execution_count": 37,
   "metadata": {},
   "outputs": [
    {
     "data": {
      "text/plain": [
       "array([[0.35424682, 0.6457531 ],\n",
       "       [0.8725588 , 0.12744129],\n",
       "       [0.1059697 , 0.89403033],\n",
       "       ...,\n",
       "       [0.28444564, 0.71555436],\n",
       "       [0.51292586, 0.48707417],\n",
       "       [0.49622807, 0.50377196]], dtype=float32)"
      ]
     },
     "execution_count": 37,
     "metadata": {},
     "output_type": "execute_result"
    }
   ],
   "source": [
    "predictions"
   ]
  },
  {
   "cell_type": "code",
   "execution_count": 38,
   "metadata": {},
   "outputs": [],
   "source": [
    "prediction = np.where(predictions[:, 1] > 0.5, True, False)"
   ]
  },
  {
   "cell_type": "markdown",
   "metadata": {},
   "source": [
    "### Prepare submission file"
   ]
  },
  {
   "cell_type": "code",
   "execution_count": 40,
   "metadata": {},
   "outputs": [],
   "source": [
    "pred_space_titanic_test = pd.read_csv('data/space_titanic_test.csv')\n",
    "pred_space_titanic_test['Transported'] = prediction\n",
    "pred_space_titanic_test\n",
    "submission = pred_space_titanic_test[['PassengerId', 'Transported']]\n",
    "submission.to_csv('submissions/claires_submission_titanic.csv', index=False)"
   ]
  }
 ],
 "metadata": {
  "kernelspec": {
   "display_name": "venv",
   "language": "python",
   "name": "python3"
  },
  "language_info": {
   "codemirror_mode": {
    "name": "ipython",
    "version": 3
   },
   "file_extension": ".py",
   "mimetype": "text/x-python",
   "name": "python",
   "nbconvert_exporter": "python",
   "pygments_lexer": "ipython3",
   "version": "3.11.7"
  }
 },
 "nbformat": 4,
 "nbformat_minor": 2
}
